{
 "cells": [
  {
   "cell_type": "code",
   "execution_count": 18,
   "metadata": {},
   "outputs": [],
   "source": [
    "import pandas as pd\n",
    "import numpy as np\n",
    "import matplotlib.pyplot as plt\n",
    "import seaborn as sns\n",
    "from sklearn.preprocessing import LabelEncoder,MinMaxScaler\n",
    "\n",
    "df = pd.read_csv(r\"C:\\Users\\JOSUE\\Downloads\\hackathon\\2017_lloguer_preu_trim.csv\")"
   ]
  },
  {
   "cell_type": "code",
   "execution_count": 19,
   "metadata": {},
   "outputs": [
    {
     "data": {
      "text/plain": [
       "(584, 8)"
      ]
     },
     "execution_count": 19,
     "metadata": {},
     "output_type": "execute_result"
    }
   ],
   "source": [
    "df.shape"
   ]
  },
  {
   "cell_type": "code",
   "execution_count": 20,
   "metadata": {},
   "outputs": [
    {
     "name": "stdout",
     "output_type": "stream",
     "text": [
      "<class 'pandas.core.frame.DataFrame'>\n",
      "RangeIndex: 584 entries, 0 to 583\n",
      "Data columns (total 8 columns):\n",
      " #   Column          Non-Null Count  Dtype  \n",
      "---  ------          --------------  -----  \n",
      " 0   Any             584 non-null    int64  \n",
      " 1   Trimestre       584 non-null    int64  \n",
      " 2   Codi_Districte  584 non-null    int64  \n",
      " 3   Nom_Districte   584 non-null    object \n",
      " 4   Codi_Barri      584 non-null    int64  \n",
      " 5   Nom_Barri       584 non-null    object \n",
      " 6   Lloguer_mitja   584 non-null    object \n",
      " 7   Preu            546 non-null    float64\n",
      "dtypes: float64(1), int64(4), object(3)\n",
      "memory usage: 36.6+ KB\n"
     ]
    },
    {
     "data": {
      "text/html": [
       "<div>\n",
       "<style scoped>\n",
       "    .dataframe tbody tr th:only-of-type {\n",
       "        vertical-align: middle;\n",
       "    }\n",
       "\n",
       "    .dataframe tbody tr th {\n",
       "        vertical-align: top;\n",
       "    }\n",
       "\n",
       "    .dataframe thead th {\n",
       "        text-align: right;\n",
       "    }\n",
       "</style>\n",
       "<table border=\"1\" class=\"dataframe\">\n",
       "  <thead>\n",
       "    <tr style=\"text-align: right;\">\n",
       "      <th></th>\n",
       "      <th>Any</th>\n",
       "      <th>Trimestre</th>\n",
       "      <th>Codi_Districte</th>\n",
       "      <th>Codi_Barri</th>\n",
       "      <th>Preu</th>\n",
       "    </tr>\n",
       "  </thead>\n",
       "  <tbody>\n",
       "    <tr>\n",
       "      <th>count</th>\n",
       "      <td>584.0</td>\n",
       "      <td>584.000000</td>\n",
       "      <td>584.000000</td>\n",
       "      <td>584.000000</td>\n",
       "      <td>546.000000</td>\n",
       "    </tr>\n",
       "    <tr>\n",
       "      <th>mean</th>\n",
       "      <td>2017.0</td>\n",
       "      <td>2.500000</td>\n",
       "      <td>6.246575</td>\n",
       "      <td>37.000000</td>\n",
       "      <td>421.009231</td>\n",
       "    </tr>\n",
       "    <tr>\n",
       "      <th>std</th>\n",
       "      <td>0.0</td>\n",
       "      <td>1.118992</td>\n",
       "      <td>2.790726</td>\n",
       "      <td>21.089371</td>\n",
       "      <td>446.178147</td>\n",
       "    </tr>\n",
       "    <tr>\n",
       "      <th>min</th>\n",
       "      <td>2017.0</td>\n",
       "      <td>1.000000</td>\n",
       "      <td>1.000000</td>\n",
       "      <td>1.000000</td>\n",
       "      <td>4.450000</td>\n",
       "    </tr>\n",
       "    <tr>\n",
       "      <th>25%</th>\n",
       "      <td>2017.0</td>\n",
       "      <td>1.750000</td>\n",
       "      <td>4.000000</td>\n",
       "      <td>19.000000</td>\n",
       "      <td>12.645000</td>\n",
       "    </tr>\n",
       "    <tr>\n",
       "      <th>50%</th>\n",
       "      <td>2017.0</td>\n",
       "      <td>2.500000</td>\n",
       "      <td>7.000000</td>\n",
       "      <td>37.000000</td>\n",
       "      <td>161.565000</td>\n",
       "    </tr>\n",
       "    <tr>\n",
       "      <th>75%</th>\n",
       "      <td>2017.0</td>\n",
       "      <td>3.250000</td>\n",
       "      <td>8.000000</td>\n",
       "      <td>55.000000</td>\n",
       "      <td>770.347500</td>\n",
       "    </tr>\n",
       "    <tr>\n",
       "      <th>max</th>\n",
       "      <td>2017.0</td>\n",
       "      <td>4.000000</td>\n",
       "      <td>10.000000</td>\n",
       "      <td>73.000000</td>\n",
       "      <td>1882.420000</td>\n",
       "    </tr>\n",
       "  </tbody>\n",
       "</table>\n",
       "</div>"
      ],
      "text/plain": [
       "          Any   Trimestre  Codi_Districte  Codi_Barri         Preu\n",
       "count   584.0  584.000000      584.000000  584.000000   546.000000\n",
       "mean   2017.0    2.500000        6.246575   37.000000   421.009231\n",
       "std       0.0    1.118992        2.790726   21.089371   446.178147\n",
       "min    2017.0    1.000000        1.000000    1.000000     4.450000\n",
       "25%    2017.0    1.750000        4.000000   19.000000    12.645000\n",
       "50%    2017.0    2.500000        7.000000   37.000000   161.565000\n",
       "75%    2017.0    3.250000        8.000000   55.000000   770.347500\n",
       "max    2017.0    4.000000       10.000000   73.000000  1882.420000"
      ]
     },
     "execution_count": 20,
     "metadata": {},
     "output_type": "execute_result"
    }
   ],
   "source": [
    "df.info()\n",
    "df.describe()\n"
   ]
  },
  {
   "cell_type": "code",
   "execution_count": 21,
   "metadata": {},
   "outputs": [],
   "source": [
    "# def plot_variables(df):\n",
    "#     # Obteniendo listas de columnas por tipo de datos\n",
    "#     numeric_cols = df.select_dtypes(include=['int', 'float']).columns\n",
    "#     categorical_cols = df.select_dtypes(include=['object']).columns\n",
    "#     boolean_cols = df.select_dtypes(include=['bool']).columns\n",
    "\n",
    "#     # Graficar variables numéricas\n",
    "#     for col in numeric_cols:\n",
    "#         plt.figure(figsize=(8, 6))\n",
    "#         plt.hist(df[col], bins=20)\n",
    "#         plt.xlabel(col)\n",
    "#         plt.ylabel('Frecuencia')\n",
    "#         plt.title(f'Histograma de {col}')\n",
    "#         plt.show()\n",
    "\n",
    "#     # Graficar variables categóricas\n",
    "#     for col in categorical_cols:\n",
    "#         plt.figure(figsize=(8, 6))\n",
    "#         df[col].value_counts().plot(kind='bar')\n",
    "#         plt.xlabel(col)\n",
    "#         plt.ylabel('Frecuencia')\n",
    "#         plt.title(f'Gráfico de barras de {col}')\n",
    "#         plt.show()\n",
    "\n",
    "#     # Graficar variables booleanas\n",
    "#     for col in boolean_cols:\n",
    "#         plt.figure(figsize=(8, 6))\n",
    "#         df[col].value_counts().plot(kind='bar')\n",
    "#         plt.xlabel(col)\n",
    "#         plt.ylabel('Frecuencia')\n",
    "#         plt.title(f'Gráfico de barras de {col}')\n",
    "#         plt.show()\n",
    "\n",
    "\n",
    "# plot_variables(df)"
   ]
  },
  {
   "cell_type": "code",
   "execution_count": 22,
   "metadata": {},
   "outputs": [],
   "source": [
    "#  la media de la columna \"Preu\"\n",
    "mean_lloguer = df['Preu'].mean()\n",
    "\n",
    "# Rellena los valores faltantes con la media\n",
    "df['Preu'].fillna(mean_lloguer, inplace=True)"
   ]
  },
  {
   "cell_type": "code",
   "execution_count": 23,
   "metadata": {},
   "outputs": [
    {
     "data": {
      "text/plain": [
       "Any               0\n",
       "Trimestre         0\n",
       "Codi_Districte    0\n",
       "Nom_Districte     0\n",
       "Codi_Barri        0\n",
       "Nom_Barri         0\n",
       "Lloguer_mitja     0\n",
       "Preu              0\n",
       "dtype: int64"
      ]
     },
     "execution_count": 23,
     "metadata": {},
     "output_type": "execute_result"
    }
   ],
   "source": [
    "df.isnull().sum()"
   ]
  },
  {
   "cell_type": "code",
   "execution_count": 24,
   "metadata": {},
   "outputs": [
    {
     "data": {
      "text/plain": [
       "0"
      ]
     },
     "execution_count": 24,
     "metadata": {},
     "output_type": "execute_result"
    }
   ],
   "source": [
    "df.duplicated().sum()"
   ]
  },
  {
   "cell_type": "code",
   "execution_count": 25,
   "metadata": {},
   "outputs": [],
   "source": [
    "# no me gusta que los nombre de las columnas esten en mayusculas los cambiare a todo minusculas y tambien cambiare el nombre del precio\n",
    "df.columns = df.columns.str.lower()\n",
    "df.rename(columns={'preu': 'lloguer mitjà mensual'}, inplace=True)"
   ]
  },
  {
   "cell_type": "code",
   "execution_count": 26,
   "metadata": {},
   "outputs": [
    {
     "name": "stdout",
     "output_type": "stream",
     "text": [
      "505\n"
     ]
    }
   ],
   "source": [
    "valores_unicos = df['lloguer mitjà mensual'].unique()\n",
    "# Calcular la cantidad de valores únicos\n",
    "cantidad_valores_unicos = len(valores_unicos)\n",
    "print(cantidad_valores_unicos)"
   ]
  },
  {
   "cell_type": "code",
   "execution_count": 27,
   "metadata": {},
   "outputs": [
    {
     "name": "stdout",
     "output_type": "stream",
     "text": [
      "Index(['any', 'trimestre', 'codi_districte', 'nom_districte', 'codi_barri',\n",
      "       'nom_barri', 'lloguer_mitja', 'lloguer mitjà mensual'],\n",
      "      dtype='object')\n"
     ]
    }
   ],
   "source": [
    "print(df.columns)"
   ]
  },
  {
   "cell_type": "code",
   "execution_count": 28,
   "metadata": {},
   "outputs": [],
   "source": [
    "# borrare las columnas que no necesito solo dejare la de precio y las dos columnas por las cuales haremos el merge\n",
    "# Reemplaza \"tu_dataframe\" con el nombre real de tu DataFrame y proporciona los nombres de las columnas que deseas eliminar.\n",
    "df = df.drop(columns=[\"any\", \"nom_districte\",\"nom_barri\",\"lloguer_mitja\",])\n"
   ]
  },
  {
   "cell_type": "code",
   "execution_count": 29,
   "metadata": {},
   "outputs": [
    {
     "data": {
      "text/html": [
       "<div>\n",
       "<style scoped>\n",
       "    .dataframe tbody tr th:only-of-type {\n",
       "        vertical-align: middle;\n",
       "    }\n",
       "\n",
       "    .dataframe tbody tr th {\n",
       "        vertical-align: top;\n",
       "    }\n",
       "\n",
       "    .dataframe thead th {\n",
       "        text-align: right;\n",
       "    }\n",
       "</style>\n",
       "<table border=\"1\" class=\"dataframe\">\n",
       "  <thead>\n",
       "    <tr style=\"text-align: right;\">\n",
       "      <th></th>\n",
       "      <th>trimestre</th>\n",
       "      <th>codi_districte</th>\n",
       "      <th>codi_barri</th>\n",
       "      <th>lloguer mitjà mensual</th>\n",
       "    </tr>\n",
       "  </thead>\n",
       "  <tbody>\n",
       "    <tr>\n",
       "      <th>0</th>\n",
       "      <td>1</td>\n",
       "      <td>1</td>\n",
       "      <td>1</td>\n",
       "      <td>734.99</td>\n",
       "    </tr>\n",
       "    <tr>\n",
       "      <th>1</th>\n",
       "      <td>1</td>\n",
       "      <td>1</td>\n",
       "      <td>2</td>\n",
       "      <td>905.26</td>\n",
       "    </tr>\n",
       "    <tr>\n",
       "      <th>2</th>\n",
       "      <td>1</td>\n",
       "      <td>1</td>\n",
       "      <td>3</td>\n",
       "      <td>722.78</td>\n",
       "    </tr>\n",
       "    <tr>\n",
       "      <th>3</th>\n",
       "      <td>1</td>\n",
       "      <td>1</td>\n",
       "      <td>4</td>\n",
       "      <td>895.28</td>\n",
       "    </tr>\n",
       "    <tr>\n",
       "      <th>4</th>\n",
       "      <td>1</td>\n",
       "      <td>2</td>\n",
       "      <td>5</td>\n",
       "      <td>871.08</td>\n",
       "    </tr>\n",
       "    <tr>\n",
       "      <th>5</th>\n",
       "      <td>1</td>\n",
       "      <td>2</td>\n",
       "      <td>6</td>\n",
       "      <td>847.04</td>\n",
       "    </tr>\n",
       "    <tr>\n",
       "      <th>6</th>\n",
       "      <td>1</td>\n",
       "      <td>2</td>\n",
       "      <td>7</td>\n",
       "      <td>1151.09</td>\n",
       "    </tr>\n",
       "    <tr>\n",
       "      <th>7</th>\n",
       "      <td>1</td>\n",
       "      <td>2</td>\n",
       "      <td>8</td>\n",
       "      <td>1001.49</td>\n",
       "    </tr>\n",
       "    <tr>\n",
       "      <th>8</th>\n",
       "      <td>1</td>\n",
       "      <td>2</td>\n",
       "      <td>9</td>\n",
       "      <td>909.08</td>\n",
       "    </tr>\n",
       "    <tr>\n",
       "      <th>9</th>\n",
       "      <td>1</td>\n",
       "      <td>2</td>\n",
       "      <td>10</td>\n",
       "      <td>876.97</td>\n",
       "    </tr>\n",
       "  </tbody>\n",
       "</table>\n",
       "</div>"
      ],
      "text/plain": [
       "   trimestre  codi_districte  codi_barri  lloguer mitjà mensual\n",
       "0          1               1           1                 734.99\n",
       "1          1               1           2                 905.26\n",
       "2          1               1           3                 722.78\n",
       "3          1               1           4                 895.28\n",
       "4          1               2           5                 871.08\n",
       "5          1               2           6                 847.04\n",
       "6          1               2           7                1151.09\n",
       "7          1               2           8                1001.49\n",
       "8          1               2           9                 909.08\n",
       "9          1               2          10                 876.97"
      ]
     },
     "execution_count": 29,
     "metadata": {},
     "output_type": "execute_result"
    }
   ],
   "source": [
    "df.head(10)"
   ]
  },
  {
   "cell_type": "code",
   "execution_count": 30,
   "metadata": {},
   "outputs": [],
   "source": [
    "df.to_csv(r'C:\\Users\\JOSUE\\Downloads\\hackathon\\real_state_limpio.csv', index=False)"
   ]
  }
 ],
 "metadata": {
  "kernelspec": {
   "display_name": "Python 3",
   "language": "python",
   "name": "python3"
  },
  "language_info": {
   "codemirror_mode": {
    "name": "ipython",
    "version": 3
   },
   "file_extension": ".py",
   "mimetype": "text/x-python",
   "name": "python",
   "nbconvert_exporter": "python",
   "pygments_lexer": "ipython3",
   "version": "3.11.6"
  }
 },
 "nbformat": 4,
 "nbformat_minor": 2
}
